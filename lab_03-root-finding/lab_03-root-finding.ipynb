{
 "cells": [
  {
   "cell_type": "markdown",
   "metadata": {
    "colab_type": "text",
    "id": "F-QMzK31Kevr"
   },
   "source": [
    "# Zadanie 1"
   ]
  },
  {
   "cell_type": "code",
   "execution_count": 0,
   "metadata": {
    "colab": {},
    "colab_type": "code",
    "id": "rDpHF7ZQ55ly"
   },
   "outputs": [],
   "source": [
    "from math import ceil, log, pi\n",
    "import sympy as sy"
   ]
  },
  {
   "cell_type": "code",
   "execution_count": 0,
   "metadata": {
    "colab": {},
    "colab_type": "code",
    "id": "Gb0WJjQk6Ce5"
   },
   "outputs": [],
   "source": [
    "def bisection(precision, left, right, error, fun):\n",
    "    left = sy.Float(left).n(precision)\n",
    "    right = sy.Float(right).n(precision)\n",
    "    #assert fun(left)*fun(right) <= 0\n",
    "    max_iter = ceil(log((right-left)/error, 2)) + 10\n",
    "    i = 0\n",
    "    while i<max_iter:\n",
    "        i+=1\n",
    "        x = (left + right)/2\n",
    "        if abs(fun(x)) < error:\n",
    "            return x, i\n",
    "        if fun(left) is sy.zoo: left += error\n",
    "        if fun(left) * fun(x) < 0:\n",
    "            right = x\n",
    "        else:\n",
    "            left = x\n",
    "\n",
    "    return None"
   ]
  },
  {
   "cell_type": "code",
   "execution_count": 3,
   "metadata": {
    "colab": {
     "base_uri": "https://localhost:8080/",
     "height": 89
    },
    "colab_type": "code",
    "id": "knuLjkoG8zrI",
    "outputId": "94051b6d-405f-43d5-dc3f-19dd7952b392"
   },
   "outputs": [
    {
     "name": "stdout",
     "output_type": "stream",
     "text": [
      "(eps=1e-7) miejsce zerowe i iteracje wymagane do jego znalezienia dla fukcji:\n",
      "f1: (4.7300407459601498438198117520374, 29)\n",
      "f2: (0.86033360238212292295102716596406, 25)\n",
      "f3: (1.8293835818767547607421875000000, 25)\n"
     ]
    }
   ],
   "source": [
    "def f1(x):\n",
    "    return sy.cosh(x)*sy.cos(x)-1\n",
    "\n",
    "def f2(x):\n",
    "    return 1/x-sy.tan(x)\n",
    "\n",
    "def f3(x):\n",
    "    return 2**(-x)+sy.exp(x)+2*sy.cos(x)-6\n",
    "\n",
    "print(\"(eps=1e-7) miejsce zerowe i iteracje wymagane do jego znalezienia dla fukcji:\")\n",
    "print(\"f1:\", bisection(32, 3/2*pi, 2*pi, 1e-7, f1))\n",
    "print(\"f2:\", bisection(32, 0, pi/2, 1e-7, f2))\n",
    "print(\"f3:\", bisection(32, 0, 3, 1e-7, f3))"
   ]
  },
  {
   "cell_type": "code",
   "execution_count": 4,
   "metadata": {
    "colab": {
     "base_uri": "https://localhost:8080/",
     "height": 89
    },
    "colab_type": "code",
    "id": "_XoiBSWm9m8Y",
    "outputId": "c57ca006-2d94-4910-cbe1-4ad152451b8a"
   },
   "outputs": [
    {
     "name": "stdout",
     "output_type": "stream",
     "text": [
      "(eps=1e-15) miejsce zerowe i iteracje wymagane do jego znalezienia dla fukcji:\n",
      "f1: (4.7300407448627040104693576723187, 55)\n",
      "f2: (0.86033358901937950859566950006411, 51)\n",
      "f3: (1.8293836019338487464125364567735, 52)\n"
     ]
    }
   ],
   "source": [
    "print(\"(eps=1e-15) miejsce zerowe i iteracje wymagane do jego znalezienia dla fukcji:\")\n",
    "print(\"f1:\", bisection(32, 3/2*pi, 2*pi, 1e-15, f1))\n",
    "print(\"f2:\",bisection(32, 0, pi/2, 1e-15, f2))\n",
    "print(\"f3:\",bisection(32, 0, 3, 1e-15, f3))"
   ]
  },
  {
   "cell_type": "code",
   "execution_count": 5,
   "metadata": {
    "colab": {
     "base_uri": "https://localhost:8080/",
     "height": 89
    },
    "colab_type": "code",
    "id": "h0ZLVPnO-etU",
    "outputId": "b319916d-9c5b-4991-c87d-ddb2b1247b57"
   },
   "outputs": [
    {
     "name": "stdout",
     "output_type": "stream",
     "text": [
      "(eps=1e-33) miejsce zerowe i iteracje wymagane do jego znalezienia dla fukcji:\n",
      "f1: (4.730040744862704026024048100833884818971503709026400580446069917, 116)\n",
      "f2: (0.8603335890193797624838934241376624193708496767473992535765872500, 110)\n",
      "f3: (1.829383601933848817136212946814150618267579803599439296803427740, 111)\n"
     ]
    }
   ],
   "source": [
    "print(\"(eps=1e-33) miejsce zerowe i iteracje wymagane do jego znalezienia dla fukcji:\")\n",
    "print(\"f1:\", bisection(64, 3/2*pi, 2*pi, 1e-33, f1))\n",
    "print(\"f2:\",bisection(64, 0, pi/2, 1e-33, f2))\n",
    "print(\"f3:\",bisection(64, 0, 3, 1e-33, f3))"
   ]
  },
  {
   "cell_type": "markdown",
   "metadata": {
    "colab_type": "text",
    "id": "Z_kD6XEKKcpZ"
   },
   "source": [
    "Ze względu na okresowość funkcji $f_1$, jej pierwsze k dodatnich miejsc zerowych można obliczyć sprawdzając znak wartości funkcji $f_1(x)$ co pewną stałą wielkość kroku (na przykład co 1). Jeżeli nastąpi zmiana znaku to pomiędzy ostatnimi dwoma wartościami x znajduje się miejsce zerowe, które można znaleźć metodą bisekcji. Poszukiwanie należy zakończyć po znalezieniu k miejsc zerowych."
   ]
  },
  {
   "cell_type": "markdown",
   "metadata": {
    "colab_type": "text",
    "id": "H3K8g9nhMjh8"
   },
   "source": [
    "# zadanie 2"
   ]
  },
  {
   "cell_type": "code",
   "execution_count": 0,
   "metadata": {
    "colab": {},
    "colab_type": "code",
    "id": "A1Drh8oiKCR9"
   },
   "outputs": [],
   "source": [
    "def newton(precision, x, eps, fun, dfun, max_iter=150):\n",
    "    x = sy.Float(x).n(precision)\n",
    "    i=0\n",
    "    while i<max_iter:\n",
    "        i += 1\n",
    "        x = x - fun(x)/dfun(x)\n",
    "        if abs(fun(x)) < eps:\n",
    "            return x, i"
   ]
  },
  {
   "cell_type": "code",
   "execution_count": 0,
   "metadata": {
    "colab": {},
    "colab_type": "code",
    "id": "RfYTwzF1NS9P"
   },
   "outputs": [],
   "source": [
    "def df1(x):\n",
    "    return sy.cos(x)*sy.sinh(x) - sy.cosh(x)*sy.sin(x)\n",
    "\n",
    "def df2(x):\n",
    "    return -1/x**2-sy.sec(x)**2\n",
    "\n",
    "def df3(x):\n",
    "    return -sy.ln(sy.Float(2))*2**(-x)+sy.exp(x)-2*sy.sin(x)"
   ]
  },
  {
   "cell_type": "code",
   "execution_count": 8,
   "metadata": {
    "colab": {
     "base_uri": "https://localhost:8080/",
     "height": 89
    },
    "colab_type": "code",
    "id": "V322ZhsCN4BK",
    "outputId": "49971dbd-7600-4732-938e-7e2a67090571"
   },
   "outputs": [
    {
     "name": "stdout",
     "output_type": "stream",
     "text": [
      "(eps=1e-7) miejsce zerowe i iteracje wymagane do jego znalezienia dla fukcji:\n",
      "f1: (4.7300407448627131642408318520946, 3)\n",
      "f2: (0.86033359041179016642284282623235, 3)\n",
      "f3: (1.8293836025124592923718650799152, 7)\n"
     ]
    }
   ],
   "source": [
    "print(\"(eps=1e-7) miejsce zerowe i iteracje wymagane do jego znalezienia dla fukcji:\")\n",
    "print(\"f1:\", newton(32, 3/2*pi, 1e-7, f1, df1))\n",
    "print(\"f2:\", newton(32, 1, 1e-7, f2, df2))\n",
    "print(\"f3:\", newton(32, 1, 1e-7, f3, df3))"
   ]
  },
  {
   "cell_type": "code",
   "execution_count": 9,
   "metadata": {
    "colab": {
     "base_uri": "https://localhost:8080/",
     "height": 89
    },
    "colab_type": "code",
    "id": "DMQmvCsNOYPj",
    "outputId": "1bbbe3db-ff93-4ecf-dcb8-e387d6d29e55"
   },
   "outputs": [
    {
     "name": "stdout",
     "output_type": "stream",
     "text": [
      "(eps=1e-15) miejsce zerowe i iteracje wymagane do jego znalezienia dla fukcji:\n",
      "f1: (4.7300407448627040260240481009159, 4)\n",
      "f2: (0.86033358901937976309262142719454, 4)\n",
      "f3: (1.8293836019338488174168712696174, 8)\n"
     ]
    }
   ],
   "source": [
    "print(\"(eps=1e-15) miejsce zerowe i iteracje wymagane do jego znalezienia dla fukcji:\")\n",
    "print(\"f1:\", newton(32, 3/2*pi, 1e-15, f1, df1))\n",
    "print(\"f2:\", newton(32, 1, 1e-15, f2, df2))\n",
    "print(\"f3:\", newton(32, 1, 1e-15, f3, df3))"
   ]
  },
  {
   "cell_type": "code",
   "execution_count": 10,
   "metadata": {
    "colab": {
     "base_uri": "https://localhost:8080/",
     "height": 89
    },
    "colab_type": "code",
    "id": "qKvQFrLyPyk0",
    "outputId": "3d393594-72ca-43b0-c35d-224004f41f33"
   },
   "outputs": [
    {
     "name": "stdout",
     "output_type": "stream",
     "text": [
      "(eps=1e-33) miejsce zerowe i iteracje wymagane do jego znalezienia dla fukcji:\n",
      "f1: (4.730040744862704026024048100833884819898341800706848689102969575, 5)\n",
      "f2: (0.8603335890193797624838934241376623335282260397351400860834061623, 5)\n",
      "f3: (1.829383601933848817136212946814150791806644654849445318419764440, 9)\n"
     ]
    }
   ],
   "source": [
    "print(\"(eps=1e-33) miejsce zerowe i iteracje wymagane do jego znalezienia dla fukcji:\")\n",
    "print(\"f1:\", newton(64, 3/2*pi, 1e-33, f1, df1))\n",
    "print(\"f2:\", newton(64, 1, 1e-33, f2, df2))\n",
    "print(\"f3:\", newton(64, 1, 1e-33, f3, df3))"
   ]
  },
  {
   "cell_type": "markdown",
   "metadata": {
    "colab_type": "text",
    "id": "Z2ouJkSZQA7h"
   },
   "source": [
    "Metoda Newtona jest wielokrotnie szybsza niż metoda bisekcji. Ilość wymaganych iteracji spadła z około kilkudziesięciu do poniżej 10."
   ]
  },
  {
   "cell_type": "markdown",
   "metadata": {
    "colab_type": "text",
    "id": "pWTp7JcFQILd"
   },
   "source": [
    "# Zad 3"
   ]
  },
  {
   "cell_type": "code",
   "execution_count": 0,
   "metadata": {
    "colab": {},
    "colab_type": "code",
    "id": "JHoetBSJP12N"
   },
   "outputs": [],
   "source": [
    "def secant(precision, x_prev, x, eps, fun, max_iter=150):\n",
    "    x_prev = sy.Float(x_prev).n(precision)\n",
    "    x = sy.Float(x).n(precision)\n",
    "    i = 0\n",
    "    while i<max_iter:\n",
    "        i+=1\n",
    "        tmp_x = (fun(x)*x_prev - fun(x_prev)*x) / (fun(x) - fun(x_prev))\n",
    "        x_prev = x\n",
    "        x = tmp_x\n",
    "        if abs(fun(x)) < eps:\n",
    "            return x, i\n",
    "\n",
    "    return None"
   ]
  },
  {
   "cell_type": "code",
   "execution_count": 12,
   "metadata": {
    "colab": {
     "base_uri": "https://localhost:8080/",
     "height": 89
    },
    "colab_type": "code",
    "id": "USxur1L4R9Q3",
    "outputId": "6a35c41a-8f12-432e-dde1-6ccc6ab6eec9"
   },
   "outputs": [
    {
     "name": "stdout",
     "output_type": "stream",
     "text": [
      "(eps=1e-7) miejsce zerowe i iteracje wymagane do jego znalezienia dla fukcji:\n",
      "f1: (4.7300407447980034876510083686924, 5)\n",
      "f2: (0.86033358831287033181688079174193, 10)\n",
      "f3: (1.8293835935894629401750530644485, 19)\n"
     ]
    }
   ],
   "source": [
    "print(\"(eps=1e-7) miejsce zerowe i iteracje wymagane do jego znalezienia dla fukcji:\")\n",
    "print(\"f1:\", secant(32, 3/2*pi, 2*pi, 1e-7, f1))\n",
    "print(\"f2:\", secant(32, 0.1, pi/2, 1e-7, f2))\n",
    "print(\"f3:\", secant(32, 0.1, 3, 1e-7, f3))"
   ]
  },
  {
   "cell_type": "code",
   "execution_count": 13,
   "metadata": {
    "colab": {
     "base_uri": "https://localhost:8080/",
     "height": 89
    },
    "colab_type": "code",
    "id": "-0gpQhOcSC8w",
    "outputId": "da29499d-e5b9-4128-f965-92e681e4edc4"
   },
   "outputs": [
    {
     "name": "stdout",
     "output_type": "stream",
     "text": [
      "(eps=1e-15) miejsce zerowe i iteracje wymagane do jego znalezienia dla fukcji:\n",
      "f1: (4.7300407448627040260240480979456, 7)\n",
      "f2: (0.86033358901937976248389366763642, 12)\n",
      "f3: (1.8293836019338488171367444258845, 21)\n"
     ]
    }
   ],
   "source": [
    "print(\"(eps=1e-15) miejsce zerowe i iteracje wymagane do jego znalezienia dla fukcji:\")\n",
    "print(\"f1:\", secant(32, 3/2*pi, 2*pi, 1e-15, f1))\n",
    "print(\"f2:\", secant(32, 0.1, pi/2, 1e-15, f2))\n",
    "print(\"f3:\", secant(32, 0.1, 3, 1e-15, f3))"
   ]
  },
  {
   "cell_type": "code",
   "execution_count": 14,
   "metadata": {
    "colab": {
     "base_uri": "https://localhost:8080/",
     "height": 89
    },
    "colab_type": "code",
    "id": "NqCQcfEfUNsg",
    "outputId": "5055adef-95ec-47e2-bc20-a414addd1aa3"
   },
   "outputs": [
    {
     "name": "stdout",
     "output_type": "stream",
     "text": [
      "(eps=1e-33) miejsce zerowe i iteracje wymagane do jego znalezienia dla fukcji:\n",
      "f1: (4.730040744862704026024048100833884819898341671773039683055237184, 8)\n",
      "f2: (0.8603335890193797624838934241376623334118004412928234116213721151, 13)\n",
      "f3: (1.829383601933848817136212946814150757442584298749880836867733749, 22)\n"
     ]
    }
   ],
   "source": [
    "print(\"(eps=1e-33) miejsce zerowe i iteracje wymagane do jego znalezienia dla fukcji:\")\n",
    "print(\"f1:\", secant(64, 3/2*pi, 2*pi, 1e-33, f1))\n",
    "print(\"f2:\", secant(64, 0.1, pi/2, 1e-33, f2))\n",
    "print(\"f3:\", secant(64, 0.1, 3, 1e-33, f3))"
   ]
  },
  {
   "cell_type": "markdown",
   "metadata": {
    "colab_type": "text",
    "id": "V3j4zOk4Uwxc"
   },
   "source": [
    "Metoda siecznych wymaga mniej iteracji niż metoda bisekcji, lecz w porównaniu do metody Newtona potrzebuje ich więcej."
   ]
  },
  {
   "cell_type": "code",
   "execution_count": 0,
   "metadata": {
    "colab": {},
    "colab_type": "code",
    "id": "2RnD2XP2UPip"
   },
   "outputs": [],
   "source": []
  }
 ],
 "metadata": {
  "colab": {
   "name": "lab_3_mownit.ipynb",
   "provenance": []
  },
  "kernelspec": {
   "display_name": "Python 3",
   "language": "python",
   "name": "python3"
  },
  "language_info": {
   "codemirror_mode": {
    "name": "ipython",
    "version": 3
   },
   "file_extension": ".py",
   "mimetype": "text/x-python",
   "name": "python",
   "nbconvert_exporter": "python",
   "pygments_lexer": "ipython3",
   "version": "3.6.9"
  }
 },
 "nbformat": 4,
 "nbformat_minor": 1
}
