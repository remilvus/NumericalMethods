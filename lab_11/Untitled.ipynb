{
 "cells": [
  {
   "cell_type": "code",
   "execution_count": 9,
   "metadata": {},
   "outputs": [],
   "source": [
    "import numpy as np\n",
    "from numpy.linalg import norm, qr, svd\n",
    "import matplotlib.pyplot as plt"
   ]
  },
  {
   "cell_type": "code",
   "execution_count": 11,
   "metadata": {},
   "outputs": [],
   "source": [
    "def gram_shmidt(A):\n",
    "    n = A.shape[0]\n",
    "    u = np.zeros((n,n))\n",
    "    u[:, 0] = A[:, 0] / norm(A[:, 0])\n",
    "    for i in range(1, n):\n",
    "        u[:, i] = A[:, i]\n",
    "        for j in range(i):\n",
    "            u[:, i] -= (u[:, j] @ A[:, i])*u[:, j]\n",
    "        u[:, i] = u[:, i] / norm(u[:, i])\n",
    "    R = np.zeros((n,n))\n",
    "    for i in range(n):\n",
    "        R[i, i:] = u[:, i] @ A[:, i:]\n",
    "    return u, R"
   ]
  },
  {
   "cell_type": "code",
   "execution_count": 12,
   "metadata": {},
   "outputs": [
    {
     "name": "stdout",
     "output_type": "stream",
     "text": [
      "[[0.1986547  0.05162231 0.33701635]\n",
      " [0.23263684 0.74929226 0.2443126 ]\n",
      " [0.11656982 0.68661726 0.25647932]] \n",
      " [[0.1986547  0.05162231 0.33701635]\n",
      " [0.23263684 0.74929226 0.2443126 ]\n",
      " [0.11656982 0.68661726 0.25647932]] True\n"
     ]
    }
   ],
   "source": [
    "A = np.random.random((3,3))\n",
    "Q, R = gram_shmidt(A)\n",
    "print(A, \"\\n\", Q@R, np.allclose(Q@R, A))"
   ]
  },
  {
   "cell_type": "code",
   "execution_count": 13,
   "metadata": {},
   "outputs": [
    {
     "name": "stdout",
     "output_type": "stream",
     "text": [
      "True True\n",
      "True True\n",
      "True True\n",
      "True True\n"
     ]
    }
   ],
   "source": [
    "for n in [10, 40, 100, 200]:\n",
    "    A = np.random.random((n,n))\n",
    "    Q, R = gram_shmidt(A)\n",
    "    Q_lib, R_lib = qr(A)\n",
    "    assert np.allclose(Q@R, A)\n",
    "    print(np.allclose(abs(Q), abs(Q_lib)), np.allclose(abs(R), abs(R_lib)))"
   ]
  },
  {
   "cell_type": "code",
   "execution_count": 14,
   "metadata": {},
   "outputs": [],
   "source": [
    "U, S, VH = svd(A)"
   ]
  },
  {
   "cell_type": "code",
   "execution_count": 15,
   "metadata": {},
   "outputs": [
    {
     "data": {
      "text/plain": [
       "(200,)"
      ]
     },
     "execution_count": 15,
     "metadata": {},
     "output_type": "execute_result"
    }
   ],
   "source": [
    "S.shape"
   ]
  },
  {
   "cell_type": "code",
   "execution_count": 25,
   "metadata": {},
   "outputs": [
    {
     "data": {
      "text/plain": [
       "<matplotlib.collections.PathCollection at 0x7fcb732ec4e0>"
      ]
     },
     "execution_count": 25,
     "metadata": {},
     "output_type": "execute_result"
    },
    {
     "data": {
      "image/png": "[encoded data removed]",
      "text/plain": [
       "<Figure size 432x288 with 1 Axes>"
      ]
     },
     "metadata": {
      "needs_background": "light"
     },
     "output_type": "display_data"
    }
   ],
   "source": [
    "X = [2 ** i for i in range(40)]\n",
    "Y = []\n",
    "\n",
    "for cond in X:\n",
    "    A = np.random.rand(8, 8)\n",
    "    U, S, VH = np.linalg.svd(A)\n",
    "    S[0] *= cond\n",
    "    A = (U * S) @ VH\n",
    "    Q, R = gram_shmidt(A)\n",
    "    \n",
    "    Y.append(np.max(np.abs(np.identity(8) - Q.T @ Q)))\n",
    "            \n",
    "n = 27\n",
    "plt.scatter(X[:n], Y[:n])"
   ]
  },
  {
   "cell_type": "markdown",
   "metadata": {},
   "source": [
    "Wielkość rozbieżności silnie zależy od wskaźnika uwarunkowania. Przy wysokim wskaźniku uwarunkowania wyniki stają się bezużyteczne. Głównym powodem jest niedokładność obliczeniowa (zaokrąglenia)."
   ]
  },
  {
   "cell_type": "markdown",
   "metadata": {},
   "source": [
    "# Zad 2"
   ]
  },
  {
   "cell_type": "code",
   "execution_count": 26,
   "metadata": {},
   "outputs": [],
   "source": [
    "from scipy.linalg import solve_triangular"
   ]
  },
  {
   "cell_type": "code",
   "execution_count": 28,
   "metadata": {},
   "outputs": [],
   "source": [
    "X = np.array([-5, -4, -3, -2, -1, 0, 1, 2, 3, 4, 5])\n",
    "Y = np.array([2, 7, 9, 12, 13, 14, 14, 13, 10, 8, 4])"
   ]
  },
  {
   "cell_type": "code",
   "execution_count": 40,
   "metadata": {},
   "outputs": [],
   "source": [
    "def solve(A, Y):\n",
    "    Y = A.T @ Y\n",
    "    A = A.T @ A\n",
    "    \n",
    "    Q, R = gram_shmidt(A)\n",
    "    Y = Q.T @ Y\n",
    "    return solve_triangular(R, Y)\n",
    "\n",
    "A = np.ones((X.shape[0], 3))\n",
    "A[:, 1] = X[:]\n",
    "A[:, 2] = X ** 2\n",
    "\n",
    "res = solve(A, Y)"
   ]
  },
  {
   "cell_type": "code",
   "execution_count": 43,
   "metadata": {},
   "outputs": [
    {
     "data": {
      "text/plain": [
       "[<matplotlib.lines.Line2D at 0x7fcb6ddc9908>]"
      ]
     },
     "execution_count": 43,
     "metadata": {},
     "output_type": "execute_result"
    },
    {
     "data": {
      "image/png": "[encoded data removed]",
      "text/plain": [
       "<Figure size 432x288 with 1 Axes>"
      ]
     },
     "metadata": {
      "needs_background": "light"
     },
     "output_type": "display_data"
    }
   ],
   "source": [
    "x = np.linspace(-5, 5, 100)\n",
    "y = res[0] + res[1] * x + res[2] * x**2\n",
    "plt.scatter(X, Y)\n",
    "plt.plot(x, y)"
   ]
  },
  {
   "cell_type": "code",
   "execution_count": null,
   "metadata": {},
   "outputs": [],
   "source": []
  }
 ],
 "metadata": {
  "kernelspec": {
   "display_name": "Python 3",
   "language": "python",
   "name": "python3"
  },
  "language_info": {
   "codemirror_mode": {
    "name": "ipython",
    "version": 3
   },
   "file_extension": ".py",
   "mimetype": "text/x-python",
   "name": "python",
   "nbconvert_exporter": "python",
   "pygments_lexer": "ipython3",
   "version": "3.6.9"
  }
 },
 "nbformat": 4,
 "nbformat_minor": 4
}
