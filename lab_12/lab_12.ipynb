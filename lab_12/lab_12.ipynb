{
 "cells": [
  {
   "cell_type": "code",
   "execution_count": 14,
   "metadata": {},
   "outputs": [],
   "source": [
    "import numpy as np\n",
    "from scipy.integrate import simps"
   ]
  },
  {
   "cell_type": "code",
   "execution_count": 21,
   "metadata": {},
   "outputs": [
    {
     "name": "stdout",
     "output_type": "stream",
     "text": [
      "6.0 6.0\n"
     ]
    }
   ],
   "source": [
    "def simpson(x, y):\n",
    "    assert x.shape[0] % 2 == 1\n",
    "    dx = x[1] - x[0]\n",
    "    s = 0\n",
    "    for i in range(x.shape[0]//2):\n",
    "        s += y[2*i-2] + 4*y[2*i-1] + y[2*i]\n",
    "    return dx*s/3\n",
    "\n",
    "X=np.array([1,2,3,4,5,6,7])\n",
    "Y= np.array([1,1,1,1,1,1,1])\n",
    "print(simpson(X, Y), simps(Y, dx=1))"
   ]
  },
  {
   "cell_type": "code",
   "execution_count": 29,
   "metadata": {},
   "outputs": [],
   "source": [
    "def f1(x):\n",
    "    return np.e**(-x**2) * np.log(x)**2\n",
    "\n",
    "def f2(x):\n",
    "    return 1/(x**3-2*x-5)\n",
    "\n",
    "def f3(x):\n",
    "    return x**5 * np.e**(-x)*np.sin(x)\n",
    "\n",
    "def f4(x, y):\n",
    "    return 1/np.sqrt(x+y)/(1+x+y)\n",
    "    \n",
    "def f5(x, y):\n",
    "    return x**2 + y**2\n",
    "\n",
    "fun_x = [f1, f2, f3]\n",
    "fun_xy = [f4, f5]"
   ]
  },
  {
   "cell_type": "code",
   "execution_count": 35,
   "metadata": {},
   "outputs": [
    {
     "name": "stdout",
     "output_type": "stream",
     "text": [
      "<function f1 at 0x7f8a90857c80> 0.014465125866203356 0.014465125866203358 1.734723475976807e-18\n",
      "<function f2 at 0x7f8a90857e18> -0.282752119246028 -0.28224799155322805 0.0005041276927999494\n",
      "<function f3 at 0x7f8a90857f28> -10.93277064078086 -10.940771682528144 0.008001041747284887\n"
     ]
    }
   ],
   "source": [
    "X = np.linspace(1,10,999)\n",
    "dx = X[1] - X[0]\n",
    "for f in fun_x:\n",
    "    Y = f(X)\n",
    "    print(f, simpson(X, Y), simps(Y, dx=dx), abs(simpson(X, Y) - simps(Y, dx=dx)))"
   ]
  },
  {
   "cell_type": "code",
   "execution_count": 36,
   "metadata": {},
   "outputs": [
    {
     "name": "stdout",
     "output_type": "stream",
     "text": [
      "<function f1 at 0x7f8a90857c80> 0.014467690822381677 0.014467690822381675 1.734723475976807e-18\n",
      "<function f2 at 0x7f8a90857e18> 0.6366399315353145 0.641777895051925 0.005137963516610444\n",
      "<function f3 at 0x7f8a90857f28> -10.897186087630333 -10.940775305023093 0.04358921739276056\n"
     ]
    }
   ],
   "source": [
    "X = np.linspace(1,10,99)\n",
    "dx = X[1] - X[0]\n",
    "for f in fun_x:\n",
    "    Y = f(X)\n",
    "    print(f, simpson(X, Y), simps(Y, dx=dx), abs(simpson(X, Y) - simps(Y, dx=dx)))"
   ]
  },
  {
   "cell_type": "markdown",
   "metadata": {},
   "source": [
    "Przy dużej odległości węzłów widać, że implementacja biblioteczna jest lepsza."
   ]
  },
  {
   "cell_type": "markdown",
   "metadata": {},
   "source": [
    "# zad 3"
   ]
  },
  {
   "cell_type": "code",
   "execution_count": 131,
   "metadata": {},
   "outputs": [
    {
     "name": "stdout",
     "output_type": "stream",
     "text": [
      "5 integral= 222.75 error= 6.75\n",
      "15 integral= 216.5510204081631 error= 0.5510204081631116\n",
      "50 integral= 216.04498125780972 error= 0.04498125780972373\n",
      "100 integral= 216.01101928374618 error= 0.011019283746179553\n"
     ]
    }
   ],
   "source": [
    "def trapez(X1, X2, f):\n",
    "    h = X2[1] - X2[0]\n",
    "    partial = [lambda x: h*f(x, x2) for x2 in X2]\n",
    "    partial[0] = lambda x: h*f(x, X2[0])/2\n",
    "    partial[-1] = lambda x: h*f(x, X2[-1])/2\n",
    "    \n",
    "    integral = 0\n",
    "    Y = []\n",
    "    for x in X1:\n",
    "        values = [foo(x) for foo in partial]\n",
    "        Y.append(np.sum(values))\n",
    "        \n",
    "    h = X1[1] - X1[0]\n",
    "    integral = [h*Y[i] for i in range(X1.shape[0])]\n",
    "    integral[0] /= 2\n",
    "    integral[-1] /= 2\n",
    "    return np.sum(integral) / 2\n",
    "\n",
    "exact, _ = dblquad(f5, -3, 3, -3, 3)\n",
    "for n in [5,15,50,100]:\n",
    "    X = np.linspace(-3,3,n)\n",
    "    Y = np.linspace(-3,3,n)\n",
    "    print(n, \"integral=\", trapez(X, Y, f5),  \"error=\", abs(trapez(X, Y, f5)-exact))"
   ]
  },
  {
   "cell_type": "markdown",
   "metadata": {},
   "source": [
    "Dokładność wzrasta wraz z rosnącą liczbą punktów siatki 2D"
   ]
  }
 ],
 "metadata": {
  "kernelspec": {
   "display_name": "Python 3",
   "language": "python",
   "name": "python3"
  },
  "language_info": {
   "codemirror_mode": {
    "name": "ipython",
    "version": 3
   },
   "file_extension": ".py",
   "mimetype": "text/x-python",
   "name": "python",
   "nbconvert_exporter": "python",
   "pygments_lexer": "ipython3",
   "version": "3.6.9"
  }
 },
 "nbformat": 4,
 "nbformat_minor": 4
}
